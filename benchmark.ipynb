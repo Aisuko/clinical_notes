{
 "cells": [
  {
   "cell_type": "code",
   "execution_count": 2,
   "id": "66d6a328-7cc0-4a56-a583-c6e67264ade3",
   "metadata": {},
   "outputs": [
    {
     "name": "stdout",
     "output_type": "stream",
     "text": [
      "total 92\n",
      "drwxr-xr-x 4 sagemaker-user users   128 Sep 13 06:39 .\n",
      "drwxr-xr-x 6 sagemaker-user users   213 Sep 13 06:39 ..\n",
      "drwxr-xr-x 5 sagemaker-user users   140 Sep 13 06:39 ClinicalNotesICU\n",
      "-rw-r--r-- 1 sagemaker-user users 31386 Sep 13 06:37 IHM_main.py\n",
      "-rw-r--r-- 1 sagemaker-user users 13445 Sep 13 06:37 Models.py\n",
      "drwxr-xr-x 5 sagemaker-user users   176 Sep 13 06:39 mimic3-benchmarks\n",
      "-rw-r--r-- 1 sagemaker-user users 11664 Sep 13 06:37 text_utils.py\n",
      "-rw-r--r-- 1 sagemaker-user users 31701 Sep 13 06:37 utils.py\n"
     ]
    }
   ],
   "source": [
    "!ls -la models/"
   ]
  },
  {
   "cell_type": "code",
   "execution_count": 3,
   "id": "5045cf51-2aaa-48d7-aac7-ca1d7c8b1dde",
   "metadata": {},
   "outputs": [
    {
     "name": "stdout",
     "output_type": "stream",
     "text": [
      "total 40\n",
      "drwxr-xr-x 5 sagemaker-user users   176 Sep 13 06:39 .\n",
      "drwxr-xr-x 4 sagemaker-user users   128 Sep 13 06:39 ..\n",
      "drwxr-xr-x 8 sagemaker-user users   163 Sep 13 06:39 .git\n",
      "-rw-r--r-- 1 sagemaker-user users  1126 Sep 13 06:39 .gitignore\n",
      "-rw-r--r-- 1 sagemaker-user users  1065 Sep 13 06:39 LICENSE\n",
      "-rw-r--r-- 1 sagemaker-user users 16306 Sep 13 06:39 README.md\n",
      "-rw-r--r-- 1 sagemaker-user users  1620 Sep 13 06:39 changelog.md\n",
      "drwxr-xr-x 6 sagemaker-user users   209 Sep 13 06:39 mimic3benchmark\n",
      "drwxr-xr-x 9 sagemaker-user users  4096 Sep 13 06:39 mimic3models\n",
      "-rw-r--r-- 1 sagemaker-user users   114 Sep 13 06:39 requirements.txt\n",
      "-rw-r--r-- 1 sagemaker-user users  2308 Sep 13 06:39 statistics.md\n"
     ]
    }
   ],
   "source": [
    "!ls -la models/mimic3-benchmarks/"
   ]
  },
  {
   "cell_type": "code",
   "execution_count": null,
   "id": "1607b149-7cfc-4dfd-88a6-540fc36ec23c",
   "metadata": {},
   "outputs": [],
   "source": [
    "!cp -r mimic3-benchmarks/mimic3benchmark .\n",
    "!cp -r mimic3-benchmarks/mimic3models ."
   ]
  },
  {
   "cell_type": "code",
   "execution_count": 5,
   "id": "f02c2b70-2856-4dc8-9f57-651b22a0ff35",
   "metadata": {},
   "outputs": [
    {
     "name": "stdout",
     "output_type": "stream",
     "text": [
      "total 96\n",
      "drwxr-xr-x 6 sagemaker-user users   171 Sep 13 06:41 .\n",
      "drwxr-xr-x 6 sagemaker-user users   213 Sep 13 06:42 ..\n",
      "drwxr-xr-x 5 sagemaker-user users   140 Sep 13 06:39 ClinicalNotesICU\n",
      "-rw-r--r-- 1 sagemaker-user users 31386 Sep 13 06:37 IHM_main.py\n",
      "-rw-r--r-- 1 sagemaker-user users 13445 Sep 13 06:37 Models.py\n",
      "drwxr-xr-x 5 sagemaker-user users   176 Sep 13 06:39 mimic3-benchmarks\n",
      "drwxr-xr-x 6 sagemaker-user users   209 Sep 13 06:41 mimic3benchmark\n",
      "drwxr-xr-x 9 sagemaker-user users  4096 Sep 13 06:41 mimic3models\n",
      "-rw-r--r-- 1 sagemaker-user users 11664 Sep 13 06:37 text_utils.py\n",
      "-rw-r--r-- 1 sagemaker-user users 31701 Sep 13 06:37 utils.py\n"
     ]
    }
   ],
   "source": [
    "!ls -la models/"
   ]
  },
  {
   "cell_type": "code",
   "execution_count": null,
   "id": "ca3e8e69-fe6f-46dd-b6c8-cd0c80cf85c7",
   "metadata": {},
   "outputs": [],
   "source": []
  }
 ],
 "metadata": {
  "kernelspec": {
   "display_name": "Python 3 (ipykernel)",
   "language": "python",
   "name": "python3"
  },
  "language_info": {
   "codemirror_mode": {
    "name": "ipython",
    "version": 3
   },
   "file_extension": ".py",
   "mimetype": "text/x-python",
   "name": "python",
   "nbconvert_exporter": "python",
   "pygments_lexer": "ipython3",
   "version": "3.10.14"
  }
 },
 "nbformat": 4,
 "nbformat_minor": 5
}
